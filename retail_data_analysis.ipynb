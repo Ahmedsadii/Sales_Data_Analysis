{
 "cells": [
  {
   "cell_type": "code",
   "execution_count": 2,
   "id": "be9369ca-ecac-4cbc-82f0-7b6c1a37498d",
   "metadata": {},
   "outputs": [
    {
     "name": "stdout",
     "output_type": "stream",
     "text": [
      "Collecting openpyxl\n",
      "  Obtaining dependency information for openpyxl from https://files.pythonhosted.org/packages/c0/da/977ded879c29cbd04de313843e76868e6e13408a94ed6b987245dc7c8506/openpyxl-3.1.5-py2.py3-none-any.whl.metadata\n",
      "  Downloading openpyxl-3.1.5-py2.py3-none-any.whl.metadata (2.5 kB)\n",
      "Collecting et-xmlfile (from openpyxl)\n",
      "  Obtaining dependency information for et-xmlfile from https://files.pythonhosted.org/packages/c1/8b/5fe2cc11fee489817272089c4203e679c63b570a5aaeb18d852ae3cbba6a/et_xmlfile-2.0.0-py3-none-any.whl.metadata\n",
      "  Downloading et_xmlfile-2.0.0-py3-none-any.whl.metadata (2.7 kB)\n",
      "Downloading openpyxl-3.1.5-py2.py3-none-any.whl (250 kB)\n",
      "   ---------------------------------------- 0.0/250.9 kB ? eta -:--:--\n",
      "   - -------------------------------------- 10.2/250.9 kB ? eta -:--:--\n",
      "   ------ -------------------------------- 41.0/250.9 kB 653.6 kB/s eta 0:00:01\n",
      "   --------------- ---------------------- 102.4/250.9 kB 991.0 kB/s eta 0:00:01\n",
      "   ----------------------------- ---------- 184.3/250.9 kB 1.4 MB/s eta 0:00:01\n",
      "   ---------------------------------------  245.8/250.9 kB 1.5 MB/s eta 0:00:01\n",
      "   ---------------------------------------- 250.9/250.9 kB 1.3 MB/s eta 0:00:00\n",
      "Downloading et_xmlfile-2.0.0-py3-none-any.whl (18 kB)\n",
      "Installing collected packages: et-xmlfile, openpyxl\n",
      "Successfully installed et-xmlfile-2.0.0 openpyxl-3.1.5\n",
      "Note: you may need to restart the kernel to use updated packages.\n"
     ]
    },
    {
     "name": "stderr",
     "output_type": "stream",
     "text": [
      "\n",
      "[notice] A new release of pip is available: 23.2.1 -> 24.3.1\n",
      "[notice] To update, run: python.exe -m pip install --upgrade pip\n"
     ]
    }
   ],
   "source": [
    "pip install openpyxl"
   ]
  },
  {
   "cell_type": "code",
   "execution_count": 29,
   "id": "1fba4f45-fa3e-4200-8984-3ec83077f7e9",
   "metadata": {},
   "outputs": [],
   "source": [
    "import pandas as pd\n",
    "import numpy as np\n",
    "import matplotlib.pyplot as plt\n",
    "from openpyxl import Workbook\n",
    "from openpyxl.utils.dataframe import dataframe_to_rows\n",
    "from openpyxl.drawing.image import Image"
   ]
  },
  {
   "cell_type": "code",
   "execution_count": 30,
   "id": "af06baaa-9cbb-4241-8bb6-c2ce7fb674b9",
   "metadata": {},
   "outputs": [],
   "source": [
    "# Load the dataset\n",
    "file_path = \"retail_sales_data.csv\"  # Replace with your file path\n",
    "df = pd.read_csv(file_path)"
   ]
  },
  {
   "cell_type": "code",
   "execution_count": 31,
   "id": "69e233e9-fec5-4a63-b409-7e615aef9a21",
   "metadata": {},
   "outputs": [
    {
     "data": {
      "text/html": [
       "<div>\n",
       "<style scoped>\n",
       "    .dataframe tbody tr th:only-of-type {\n",
       "        vertical-align: middle;\n",
       "    }\n",
       "\n",
       "    .dataframe tbody tr th {\n",
       "        vertical-align: top;\n",
       "    }\n",
       "\n",
       "    .dataframe thead th {\n",
       "        text-align: right;\n",
       "    }\n",
       "</style>\n",
       "<table border=\"1\" class=\"dataframe\">\n",
       "  <thead>\n",
       "    <tr style=\"text-align: right;\">\n",
       "      <th></th>\n",
       "      <th>Order_ID</th>\n",
       "      <th>Product</th>\n",
       "      <th>Category</th>\n",
       "      <th>Quantity</th>\n",
       "      <th>Price</th>\n",
       "      <th>Order_Date</th>\n",
       "      <th>Customer_Country</th>\n",
       "      <th>Region</th>\n",
       "      <th>Total_Sales</th>\n",
       "    </tr>\n",
       "  </thead>\n",
       "  <tbody>\n",
       "    <tr>\n",
       "      <th>128</th>\n",
       "      <td>ORD1128</td>\n",
       "      <td>Charger</td>\n",
       "      <td>Accessories</td>\n",
       "      <td>2</td>\n",
       "      <td>399.16</td>\n",
       "      <td>2022-05-27</td>\n",
       "      <td>Brazil</td>\n",
       "      <td>South America</td>\n",
       "      <td>798.32</td>\n",
       "    </tr>\n",
       "    <tr>\n",
       "      <th>614</th>\n",
       "      <td>ORD1614</td>\n",
       "      <td>Laptop</td>\n",
       "      <td>Electronics</td>\n",
       "      <td>1</td>\n",
       "      <td>347.25</td>\n",
       "      <td>2022-01-28</td>\n",
       "      <td>USA</td>\n",
       "      <td>South America</td>\n",
       "      <td>347.25</td>\n",
       "    </tr>\n",
       "    <tr>\n",
       "      <th>831</th>\n",
       "      <td>ORD1831</td>\n",
       "      <td>Tablet</td>\n",
       "      <td>Electronics</td>\n",
       "      <td>1</td>\n",
       "      <td>346.64</td>\n",
       "      <td>2022-03-11</td>\n",
       "      <td>Brazil</td>\n",
       "      <td>South America</td>\n",
       "      <td>346.64</td>\n",
       "    </tr>\n",
       "    <tr>\n",
       "      <th>402</th>\n",
       "      <td>ORD1402</td>\n",
       "      <td>Laptop</td>\n",
       "      <td>Electronics</td>\n",
       "      <td>2</td>\n",
       "      <td>277.86</td>\n",
       "      <td>2022-09-05</td>\n",
       "      <td>Germany</td>\n",
       "      <td>Australia</td>\n",
       "      <td>555.72</td>\n",
       "    </tr>\n",
       "    <tr>\n",
       "      <th>438</th>\n",
       "      <td>ORD1438</td>\n",
       "      <td>Headphones</td>\n",
       "      <td>Electronics</td>\n",
       "      <td>3</td>\n",
       "      <td>337.22</td>\n",
       "      <td>2022-09-30</td>\n",
       "      <td>France</td>\n",
       "      <td>North America</td>\n",
       "      <td>1011.66</td>\n",
       "    </tr>\n",
       "    <tr>\n",
       "      <th>786</th>\n",
       "      <td>ORD1786</td>\n",
       "      <td>Smartphone</td>\n",
       "      <td>Electronics</td>\n",
       "      <td>2</td>\n",
       "      <td>256.51</td>\n",
       "      <td>2022-08-25</td>\n",
       "      <td>India</td>\n",
       "      <td>South America</td>\n",
       "      <td>513.02</td>\n",
       "    </tr>\n",
       "    <tr>\n",
       "      <th>444</th>\n",
       "      <td>ORD1444</td>\n",
       "      <td>Charger</td>\n",
       "      <td>Accessories</td>\n",
       "      <td>1</td>\n",
       "      <td>399.34</td>\n",
       "      <td>2022-02-08</td>\n",
       "      <td>France</td>\n",
       "      <td>Asia</td>\n",
       "      <td>399.34</td>\n",
       "    </tr>\n",
       "    <tr>\n",
       "      <th>447</th>\n",
       "      <td>ORD1447</td>\n",
       "      <td>Laptop</td>\n",
       "      <td>Electronics</td>\n",
       "      <td>3</td>\n",
       "      <td>497.76</td>\n",
       "      <td>2022-04-21</td>\n",
       "      <td>Brazil</td>\n",
       "      <td>Europe</td>\n",
       "      <td>1493.28</td>\n",
       "    </tr>\n",
       "    <tr>\n",
       "      <th>70</th>\n",
       "      <td>ORD1070</td>\n",
       "      <td>Laptop</td>\n",
       "      <td>Accessories</td>\n",
       "      <td>2</td>\n",
       "      <td>31.16</td>\n",
       "      <td>2022-04-09</td>\n",
       "      <td>Brazil</td>\n",
       "      <td>Europe</td>\n",
       "      <td>62.32</td>\n",
       "    </tr>\n",
       "    <tr>\n",
       "      <th>604</th>\n",
       "      <td>ORD1604</td>\n",
       "      <td>Tablet</td>\n",
       "      <td>Electronics</td>\n",
       "      <td>4</td>\n",
       "      <td>176.90</td>\n",
       "      <td>2022-10-16</td>\n",
       "      <td>France</td>\n",
       "      <td>Asia</td>\n",
       "      <td>707.60</td>\n",
       "    </tr>\n",
       "  </tbody>\n",
       "</table>\n",
       "</div>"
      ],
      "text/plain": [
       "    Order_ID     Product     Category  Quantity   Price  Order_Date  \\\n",
       "128  ORD1128     Charger  Accessories         2  399.16  2022-05-27   \n",
       "614  ORD1614      Laptop  Electronics         1  347.25  2022-01-28   \n",
       "831  ORD1831      Tablet  Electronics         1  346.64  2022-03-11   \n",
       "402  ORD1402      Laptop  Electronics         2  277.86  2022-09-05   \n",
       "438  ORD1438  Headphones  Electronics         3  337.22  2022-09-30   \n",
       "786  ORD1786  Smartphone  Electronics         2  256.51  2022-08-25   \n",
       "444  ORD1444     Charger  Accessories         1  399.34  2022-02-08   \n",
       "447  ORD1447      Laptop  Electronics         3  497.76  2022-04-21   \n",
       "70   ORD1070      Laptop  Accessories         2   31.16  2022-04-09   \n",
       "604  ORD1604      Tablet  Electronics         4  176.90  2022-10-16   \n",
       "\n",
       "    Customer_Country         Region  Total_Sales  \n",
       "128           Brazil  South America       798.32  \n",
       "614              USA  South America       347.25  \n",
       "831           Brazil  South America       346.64  \n",
       "402          Germany      Australia       555.72  \n",
       "438           France  North America      1011.66  \n",
       "786            India  South America       513.02  \n",
       "444           France           Asia       399.34  \n",
       "447           Brazil         Europe      1493.28  \n",
       "70            Brazil         Europe        62.32  \n",
       "604           France           Asia       707.60  "
      ]
     },
     "execution_count": 31,
     "metadata": {},
     "output_type": "execute_result"
    }
   ],
   "source": [
    "df.sample(10)"
   ]
  },
  {
   "cell_type": "code",
   "execution_count": 32,
   "id": "74e56399-fb6e-4a52-9621-df1e69643e87",
   "metadata": {},
   "outputs": [],
   "source": [
    "# Extract Month-Year for trend analysis\n",
    "df['Order_Date'] = pd.to_datetime(df['Order_Date'])\n",
    "df['Month_Year'] = df['Order_Date'].dt.to_period('M')"
   ]
  },
  {
   "cell_type": "code",
   "execution_count": 33,
   "id": "bca3a047-8168-499b-a4f9-1f1013766bf1",
   "metadata": {},
   "outputs": [
    {
     "data": {
      "text/html": [
       "<div>\n",
       "<style scoped>\n",
       "    .dataframe tbody tr th:only-of-type {\n",
       "        vertical-align: middle;\n",
       "    }\n",
       "\n",
       "    .dataframe tbody tr th {\n",
       "        vertical-align: top;\n",
       "    }\n",
       "\n",
       "    .dataframe thead th {\n",
       "        text-align: right;\n",
       "    }\n",
       "</style>\n",
       "<table border=\"1\" class=\"dataframe\">\n",
       "  <thead>\n",
       "    <tr style=\"text-align: right;\">\n",
       "      <th></th>\n",
       "      <th>Order_ID</th>\n",
       "      <th>Product</th>\n",
       "      <th>Category</th>\n",
       "      <th>Quantity</th>\n",
       "      <th>Price</th>\n",
       "      <th>Order_Date</th>\n",
       "      <th>Customer_Country</th>\n",
       "      <th>Region</th>\n",
       "      <th>Total_Sales</th>\n",
       "      <th>Month_Year</th>\n",
       "    </tr>\n",
       "  </thead>\n",
       "  <tbody>\n",
       "    <tr>\n",
       "      <th>0</th>\n",
       "      <td>ORD1000</td>\n",
       "      <td>Headphones</td>\n",
       "      <td>Accessories</td>\n",
       "      <td>3</td>\n",
       "      <td>361.00</td>\n",
       "      <td>2022-11-07</td>\n",
       "      <td>Australia</td>\n",
       "      <td>Europe</td>\n",
       "      <td>1083.00</td>\n",
       "      <td>2022-11</td>\n",
       "    </tr>\n",
       "    <tr>\n",
       "      <th>1</th>\n",
       "      <td>ORD1001</td>\n",
       "      <td>Charger</td>\n",
       "      <td>Accessories</td>\n",
       "      <td>4</td>\n",
       "      <td>45.32</td>\n",
       "      <td>2022-12-24</td>\n",
       "      <td>Brazil</td>\n",
       "      <td>Australia</td>\n",
       "      <td>181.28</td>\n",
       "      <td>2022-12</td>\n",
       "    </tr>\n",
       "    <tr>\n",
       "      <th>2</th>\n",
       "      <td>ORD1002</td>\n",
       "      <td>Tablet</td>\n",
       "      <td>Accessories</td>\n",
       "      <td>1</td>\n",
       "      <td>44.92</td>\n",
       "      <td>2022-06-03</td>\n",
       "      <td>Brazil</td>\n",
       "      <td>South America</td>\n",
       "      <td>44.92</td>\n",
       "      <td>2022-06</td>\n",
       "    </tr>\n",
       "    <tr>\n",
       "      <th>3</th>\n",
       "      <td>ORD1003</td>\n",
       "      <td>Charger</td>\n",
       "      <td>Accessories</td>\n",
       "      <td>4</td>\n",
       "      <td>15.93</td>\n",
       "      <td>2022-09-17</td>\n",
       "      <td>China</td>\n",
       "      <td>Australia</td>\n",
       "      <td>63.72</td>\n",
       "      <td>2022-09</td>\n",
       "    </tr>\n",
       "    <tr>\n",
       "      <th>4</th>\n",
       "      <td>ORD1004</td>\n",
       "      <td>Charger</td>\n",
       "      <td>Accessories</td>\n",
       "      <td>3</td>\n",
       "      <td>478.69</td>\n",
       "      <td>2022-04-18</td>\n",
       "      <td>India</td>\n",
       "      <td>Asia</td>\n",
       "      <td>1436.07</td>\n",
       "      <td>2022-04</td>\n",
       "    </tr>\n",
       "  </tbody>\n",
       "</table>\n",
       "</div>"
      ],
      "text/plain": [
       "  Order_ID     Product     Category  Quantity   Price Order_Date  \\\n",
       "0  ORD1000  Headphones  Accessories         3  361.00 2022-11-07   \n",
       "1  ORD1001     Charger  Accessories         4   45.32 2022-12-24   \n",
       "2  ORD1002      Tablet  Accessories         1   44.92 2022-06-03   \n",
       "3  ORD1003     Charger  Accessories         4   15.93 2022-09-17   \n",
       "4  ORD1004     Charger  Accessories         3  478.69 2022-04-18   \n",
       "\n",
       "  Customer_Country         Region  Total_Sales Month_Year  \n",
       "0        Australia         Europe      1083.00    2022-11  \n",
       "1           Brazil      Australia       181.28    2022-12  \n",
       "2           Brazil  South America        44.92    2022-06  \n",
       "3            China      Australia        63.72    2022-09  \n",
       "4            India           Asia      1436.07    2022-04  "
      ]
     },
     "execution_count": 33,
     "metadata": {},
     "output_type": "execute_result"
    }
   ],
   "source": [
    "df.head()"
   ]
  },
  {
   "cell_type": "code",
   "execution_count": 34,
   "id": "cce05cc8-0935-4548-a59f-ceb5f7302a9b",
   "metadata": {},
   "outputs": [
    {
     "name": "stdout",
     "output_type": "stream",
     "text": [
      "   Month_Year  Total_Sales\n",
      "0     2022-01     45123.98\n",
      "1     2022-02     51696.39\n",
      "2     2022-03     49755.21\n",
      "3     2022-04     53589.40\n",
      "4     2022-05     54980.27\n",
      "5     2022-06     51834.61\n",
      "6     2022-07     66698.20\n",
      "7     2022-08     44333.11\n",
      "8     2022-09     51672.67\n",
      "9     2022-10     48192.42\n",
      "10    2022-11     61459.96\n",
      "11    2022-12     48820.56\n"
     ]
    }
   ],
   "source": [
    "# 1. Sales Trends by Month\n",
    "sales_trend = df.groupby('Month_Year')['Total_Sales'].sum().reset_index()\n",
    "print(sales_trend)\n",
    "sales_trend['Month_Year'] = sales_trend['Month_Year'].astype(str)"
   ]
  },
  {
   "cell_type": "code",
   "execution_count": 35,
   "id": "1cf788da-9e80-427e-ba3c-67730afe4e54",
   "metadata": {},
   "outputs": [],
   "source": [
    "# 2. Top-Performing Products\n",
    "top_products = df.groupby('Product')['Total_Sales'].sum().sort_values(ascending=False).reset_index()"
   ]
  },
  {
   "cell_type": "code",
   "execution_count": 36,
   "id": "71f7960c-2728-4ad4-9fa3-4402c284cba9",
   "metadata": {},
   "outputs": [],
   "source": [
    "# 3. Sales by Region and Category\n",
    "region_category_sales = df.groupby(['Region', 'Category'])['Total_Sales'].sum().unstack()"
   ]
  },
  {
   "cell_type": "code",
   "execution_count": 37,
   "id": "a626b75f-c94c-4d27-894c-9c59d2cb2494",
   "metadata": {},
   "outputs": [],
   "source": [
    "# 4. Save Data to Excel\n",
    "output_file = \"sales_analysis_dashboard.xlsx\"\n",
    "wb = Workbook()\n",
    "ws1 = wb.active\n",
    "ws1.title = \"Sales Trends\""
   ]
  },
  {
   "cell_type": "code",
   "execution_count": 38,
   "id": "0ed6f1f7-eade-430c-bf4a-0f5e371f17be",
   "metadata": {},
   "outputs": [],
   "source": [
    "# Add sales trend data\n",
    "for r in dataframe_to_rows(sales_trend, index=False, header=True):\n",
    "    ws1.append(r)"
   ]
  },
  {
   "cell_type": "code",
   "execution_count": 39,
   "id": "95c1574a-6ed7-4151-b846-8c49adf54714",
   "metadata": {},
   "outputs": [
    {
     "data": {
      "image/png": "[encoded data removed]",
      "text/plain": [
       "<Figure size 1000x600 with 1 Axes>"
      ]
     },
     "metadata": {},
     "output_type": "display_data"
    }
   ],
   "source": [
    "# Plot and add chart to the workbook\n",
    "plt.figure(figsize=(10, 6))\n",
    "plt.plot(sales_trend['Month_Year'], sales_trend['Total_Sales'], marker='o')\n",
    "plt.title('Sales Trend Over Time')\n",
    "plt.xlabel('Month-Year')\n",
    "plt.ylabel('Total Sales')\n",
    "plt.xticks(rotation=45)\n",
    "plt.tight_layout()\n",
    "plt.savefig(\"sales_trend_chart.png\")"
   ]
  },
  {
   "cell_type": "code",
   "execution_count": 40,
   "id": "309bf3c2-eb04-44e7-9010-709c397fbc52",
   "metadata": {},
   "outputs": [],
   "source": [
    "# Insert chart into the workbook\n",
    "img = Image(\"sales_trend_chart.png\")\n",
    "ws1.add_image(img, \"H2\")"
   ]
  },
  {
   "cell_type": "code",
   "execution_count": 41,
   "id": "b51afc52-a5cd-43e7-9e18-710dd6b7f71f",
   "metadata": {},
   "outputs": [],
   "source": [
    "# Add other sheets\n",
    "ws2 = wb.create_sheet(title=\"Top Products\")\n",
    "for r in dataframe_to_rows(top_products, index=False, header=True):\n",
    "    ws2.append(r)\n",
    "\n",
    "ws3 = wb.create_sheet(title=\"Region Category Sales\")\n",
    "for r in dataframe_to_rows(region_category_sales.reset_index(), index=False, header=True):\n",
    "    ws3.append(r)"
   ]
  },
  {
   "cell_type": "code",
   "execution_count": 43,
   "id": "7eadc71e-4fdf-4695-9bfd-6a23c9215732",
   "metadata": {},
   "outputs": [
    {
     "name": "stdout",
     "output_type": "stream",
     "text": [
      "Dashboard saved to sales_analysis_dashboard.xlsx\n"
     ]
    }
   ],
   "source": [
    "# Save the workbook\n",
    "wb.save(output_file)\n",
    "print(f\"Dashboard saved to {output_file}\")"
   ]
  },
  {
   "cell_type": "code",
   "execution_count": null,
   "id": "99d22598-9cea-4e89-8647-e3a2493f3a43",
   "metadata": {},
   "outputs": [],
   "source": []
  },
  {
   "cell_type": "code",
   "execution_count": null,
   "id": "5dd19dab-e5e8-466d-8b44-bc8f5f6861d7",
   "metadata": {},
   "outputs": [],
   "source": []
  }
 ],
 "metadata": {
  "kernelspec": {
   "display_name": "Python 3 (ipykernel)",
   "language": "python",
   "name": "python3"
  },
  "language_info": {
   "codemirror_mode": {
    "name": "ipython",
    "version": 3
   },
   "file_extension": ".py",
   "mimetype": "text/x-python",
   "name": "python",
   "nbconvert_exporter": "python",
   "pygments_lexer": "ipython3",
   "version": "3.11.5"
  }
 },
 "nbformat": 4,
 "nbformat_minor": 5
}
